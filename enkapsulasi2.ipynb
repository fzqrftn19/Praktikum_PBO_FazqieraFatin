{
  "nbformat": 4,
  "nbformat_minor": 0,
  "metadata": {
    "colab": {
      "provenance": [],
      "authorship_tag": "ABX9TyM2rpm8At/B9UYXeAdQHkT4",
      "include_colab_link": true
    },
    "kernelspec": {
      "name": "python3",
      "display_name": "Python 3"
    },
    "language_info": {
      "name": "python"
    }
  },
  "cells": [
    {
      "cell_type": "markdown",
      "metadata": {
        "id": "view-in-github",
        "colab_type": "text"
      },
      "source": [
        "<a href=\"https://colab.research.google.com/github/fzqrftn19/Praktikum_PBO_FazqieraFatin/blob/main/enkapsulasi2.ipynb\" target=\"_parent\"><img src=\"https://colab.research.google.com/assets/colab-badge.svg\" alt=\"Open In Colab\"/></a>"
      ]
    },
    {
      "cell_type": "code",
      "execution_count": 2,
      "metadata": {
        "colab": {
          "base_uri": "https://localhost:8080/"
        },
        "id": "rs3_awBc1XmO",
        "outputId": "556cb9f5-3b3c-453b-8701-10be0c1a8715"
      },
      "outputs": [
        {
          "output_type": "stream",
          "name": "stdout",
          "text": [
            "800.0\n"
          ]
        }
      ],
      "source": [
        "# enkapsulasi dengan private access modifier\n",
        "class pegawai:\n",
        "    def __init__(self, nama, salary):\n",
        "        self.nama=nama\n",
        "        self.gaji=salary\n",
        "        self.__gaji_final= self.gaji - (0.2 * self.gaji)\n",
        "\n",
        "    def showGajiFinal(self):\n",
        "        return self.__gaji_final\n",
        "\n",
        "obj1=pegawai(\"Agus\", 1000)\n",
        "print(obj1.showGajiFinal())\n"
      ]
    }
  ]
}