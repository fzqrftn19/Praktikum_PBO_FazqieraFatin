{
  "nbformat": 4,
  "nbformat_minor": 0,
  "metadata": {
    "colab": {
      "provenance": [],
      "authorship_tag": "ABX9TyOr24W5EExr2G+mr8gEodr0",
      "include_colab_link": true
    },
    "kernelspec": {
      "name": "python3",
      "display_name": "Python 3"
    },
    "language_info": {
      "name": "python"
    }
  },
  "cells": [
    {
      "cell_type": "markdown",
      "metadata": {
        "id": "view-in-github",
        "colab_type": "text"
      },
      "source": [
        "<a href=\"https://colab.research.google.com/github/fzqrftn19/Praktikum_PBO_FazqieraFatin/blob/main/instancevariabel.ipynb\" target=\"_parent\"><img src=\"https://colab.research.google.com/assets/colab-badge.svg\" alt=\"Open In Colab\"/></a>"
      ]
    },
    {
      "cell_type": "code",
      "execution_count": 1,
      "metadata": {
        "colab": {
          "base_uri": "https://localhost:8080/"
        },
        "id": "Zx--kpzS2Rdt",
        "outputId": "1fc5e69d-3a61-4d5c-c40e-e223230cec86"
      },
      "outputs": [
        {
          "output_type": "stream",
          "name": "stdout",
          "text": [
            "Canine\n",
            "Buddy\n",
            "Charlie\n",
            "Max\n",
            "Feline\n",
            "Feline\n"
          ]
        }
      ],
      "source": [
        "class Dog:\n",
        "    # Class variable\n",
        "    species = \"Canine\"\n",
        "\n",
        "    def __init__(self, name, age):\n",
        "        # Instance variables\n",
        "        self.name = name\n",
        "        self.age = age\n",
        "\n",
        "# Create objects\n",
        "dog1 = Dog(\"Buddy\", 3)\n",
        "dog2 = Dog(\"Charlie\", 5)\n",
        "\n",
        "# Access class and instance variables\n",
        "print(dog1.species)  # (Class variable)\n",
        "print(dog1.name)     # (Instance variable)\n",
        "print(dog2.name)     # (Instance variable)\n",
        "\n",
        "# Modify instance variables\n",
        "dog1.name = \"Max\"\n",
        "print(dog1.name)     # (Updated instance variable)\n",
        "\n",
        "# Modify class variable\n",
        "Dog.species = \"Feline\"\n",
        "print(dog1.species)  # (Updated class variable)\n",
        "print(dog2.species)"
      ]
    }
  ]
}